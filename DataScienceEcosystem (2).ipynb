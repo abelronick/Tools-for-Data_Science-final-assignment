{
 "cells": [
  {
   "cell_type": "markdown",
   "id": "ff1124fd-5519-48e1-bc57-827ab83fb802",
   "metadata": {},
   "source": [
    "#  Data Science Tools and Ecosystem"
   ]
  },
  {
   "cell_type": "markdown",
   "id": "d33306a2-12cd-4df4-95e2-8e89acc66ba6",
   "metadata": {},
   "source": [
    "# In this notebook, Data Science Tools and Ecosystem are summarize. "
   ]
  },
  {
   "cell_type": "markdown",
   "id": "69c32f02-4a8b-42e4-91a2-cda42d2b474d",
   "metadata": {},
   "source": [
    "# Some of the popular language that Data Science use are: \n",
    "1. Python\n",
    "2. R\n",
    "3. SQL\n",
    "4. Scala\n",
    "5. Java"
   ]
  },
  {
   "cell_type": "markdown",
   "id": "8422c031-50e9-4155-a457-cb4b390ecacd",
   "metadata": {},
   "source": [
    "# Some of the commonly used libraries used by Data Scientist include:\n",
    "1. Panda\n",
    "2. Numpy\n",
    "3. Matplotlib \n",
    "4. keras\n",
    "5. scikit-learn Library"
   ]
  },
  {
   "cell_type": "markdown",
   "id": "f912208f-e719-41bf-aa14-46928cfc9207",
   "metadata": {},
   "source": [
    "# Data Science Tools Development Environment Open source tools\n",
    "| Data Science Tools |\n",
    "---------------------\n",
    "| Jupyter Notebook |\n",
    "| Rstudio |\n",
    "| Spyder |\n"
   ]
  },
  {
   "cell_type": "markdown",
   "id": "aaaede4e-94d0-4a75-b536-bc3c8eee78c9",
   "metadata": {},
   "source": [
    "### Below are a few exemples of evaluating arithmetic expressions in Python.\n"
   ]
  },
  {
   "cell_type": "code",
   "execution_count": 3,
   "id": "2ab2f44b-7dfa-48da-8590-b27498b4c0f4",
   "metadata": {},
   "outputs": [
    {
     "data": {
      "text/plain": [
       "17"
      ]
     },
     "execution_count": 3,
     "metadata": {},
     "output_type": "execute_result"
    }
   ],
   "source": [
    "# this is a simple arithmetic expression to multiply then add integer\n",
    "(3*4)+5"
   ]
  },
  {
   "cell_type": "code",
   "execution_count": 4,
   "id": "225e4558-80ef-47d7-a08b-6da555d34bb9",
   "metadata": {},
   "outputs": [
    {
     "name": "stdout",
     "output_type": "stream",
     "text": [
      "3.3333333333333335\n"
     ]
    }
   ],
   "source": [
    "# This will conver 200 minutes to hour by dividing by 60.\n",
    "minutes = 200\n",
    "hour = minutes / 60\n",
    "print(hour)"
   ]
  },
  {
   "cell_type": "markdown",
   "id": "849c53b3-3c50-4653-a597-e296c87fb90f",
   "metadata": {},
   "source": [
    " __Objectives__\n",
    "- Add copmment to code\n",
    "- Create markdown cell\n",
    "- create heading style in markdown cell\n",
    "- Add order list\n",
    "- Add unorder list"
   ]
  },
  {
   "cell_type": "markdown",
   "id": "c2b0b90a-f3a2-4000-bc6f-979f3e4a080f",
   "metadata": {},
   "source": [
    "## Author\n",
    "Abel Olum"
   ]
  },
  {
   "cell_type": "code",
   "execution_count": null,
   "id": "d3257a47-45f9-435e-9f14-115f3817b664",
   "metadata": {},
   "outputs": [],
   "source": []
  }
 ],
 "metadata": {
  "kernelspec": {
   "display_name": "Python 3 (ipykernel)",
   "language": "python",
   "name": "python3"
  },
  "language_info": {
   "codemirror_mode": {
    "name": "ipython",
    "version": 3
   },
   "file_extension": ".py",
   "mimetype": "text/x-python",
   "name": "python",
   "nbconvert_exporter": "python",
   "pygments_lexer": "ipython3",
   "version": "3.12.4"
  }
 },
 "nbformat": 4,
 "nbformat_minor": 5
}
